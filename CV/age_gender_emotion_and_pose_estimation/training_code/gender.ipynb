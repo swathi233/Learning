{
 "cells": [
  {
   "cell_type": "code",
   "execution_count": 1,
   "metadata": {},
   "outputs": [
    {
     "name": "stdout",
     "output_type": "stream",
     "text": [
      "Found 37608 images belonging to 2 classes.\n",
      "Found 9401 images belonging to 2 classes.\n"
     ]
    },
    {
     "name": "stderr",
     "output_type": "stream",
     "text": [
      "c:\\Users\\HTW1KOR\\.conda\\envs\\learning\\lib\\site-packages\\keras\\src\\layers\\convolutional\\base_conv.py:107: UserWarning: Do not pass an `input_shape`/`input_dim` argument to a layer. When using Sequential models, prefer using an `Input(shape)` object as the first layer in the model instead.\n",
      "  super().__init__(activity_regularizer=activity_regularizer, **kwargs)\n"
     ]
    },
    {
     "name": "stdout",
     "output_type": "stream",
     "text": [
      "Epoch 1/50\n"
     ]
    },
    {
     "name": "stderr",
     "output_type": "stream",
     "text": [
      "c:\\Users\\HTW1KOR\\.conda\\envs\\learning\\lib\\site-packages\\keras\\src\\trainers\\data_adapters\\py_dataset_adapter.py:121: UserWarning: Your `PyDataset` class should call `super().__init__(**kwargs)` in its constructor. `**kwargs` can include `workers`, `use_multiprocessing`, `max_queue_size`. Do not pass these arguments to `fit()`, as they will be ignored.\n",
      "  self._warn_if_super_not_called()\n"
     ]
    },
    {
     "name": "stdout",
     "output_type": "stream",
     "text": [
      "\u001b[1m1176/1176\u001b[0m \u001b[32m━━━━━━━━━━━━━━━━━━━━\u001b[0m\u001b[37m\u001b[0m \u001b[1m417s\u001b[0m 353ms/step - loss: 18.8168 - mae: 0.7386 - val_loss: 0.0859 - val_mae: 0.2238\n",
      "Epoch 2/50\n",
      "\u001b[1m1176/1176\u001b[0m \u001b[32m━━━━━━━━━━━━━━━━━━━━\u001b[0m\u001b[37m\u001b[0m \u001b[1m425s\u001b[0m 361ms/step - loss: 0.0776 - mae: 0.2074 - val_loss: 0.0699 - val_mae: 0.1933\n",
      "Epoch 3/50\n",
      "\u001b[1m1176/1176\u001b[0m \u001b[32m━━━━━━━━━━━━━━━━━━━━\u001b[0m\u001b[37m\u001b[0m \u001b[1m418s\u001b[0m 355ms/step - loss: 0.0687 - mae: 0.1915 - val_loss: 0.0740 - val_mae: 0.2004\n",
      "Epoch 4/50\n",
      "\u001b[1m1176/1176\u001b[0m \u001b[32m━━━━━━━━━━━━━━━━━━━━\u001b[0m\u001b[37m\u001b[0m \u001b[1m345s\u001b[0m 293ms/step - loss: 0.0573 - mae: 0.1710 - val_loss: 0.0700 - val_mae: 0.1850\n",
      "Epoch 5/50\n",
      "\u001b[1m1176/1176\u001b[0m \u001b[32m━━━━━━━━━━━━━━━━━━━━\u001b[0m\u001b[37m\u001b[0m \u001b[1m339s\u001b[0m 288ms/step - loss: 0.0513 - mae: 0.1603 - val_loss: 0.0620 - val_mae: 0.1722\n",
      "Epoch 6/50\n",
      "\u001b[1m1176/1176\u001b[0m \u001b[32m━━━━━━━━━━━━━━━━━━━━\u001b[0m\u001b[37m\u001b[0m \u001b[1m2210s\u001b[0m 2s/step - loss: 0.0425 - mae: 0.1442 - val_loss: 0.0767 - val_mae: 0.1949\n",
      "Epoch 7/50\n",
      "\u001b[1m1176/1176\u001b[0m \u001b[32m━━━━━━━━━━━━━━━━━━━━\u001b[0m\u001b[37m\u001b[0m \u001b[1m329s\u001b[0m 279ms/step - loss: 0.0388 - mae: 0.1383 - val_loss: 0.0639 - val_mae: 0.1716\n",
      "Epoch 8/50\n",
      "\u001b[1m1176/1176\u001b[0m \u001b[32m━━━━━━━━━━━━━━━━━━━━\u001b[0m\u001b[37m\u001b[0m \u001b[1m307s\u001b[0m 261ms/step - loss: 0.0348 - mae: 0.1324 - val_loss: 0.0724 - val_mae: 0.1917\n",
      "Epoch 9/50\n",
      "\u001b[1m1176/1176\u001b[0m \u001b[32m━━━━━━━━━━━━━━━━━━━━\u001b[0m\u001b[37m\u001b[0m \u001b[1m303s\u001b[0m 258ms/step - loss: 0.0305 - mae: 0.1241 - val_loss: 0.0669 - val_mae: 0.1838\n",
      "Epoch 10/50\n",
      "\u001b[1m1176/1176\u001b[0m \u001b[32m━━━━━━━━━━━━━━━━━━━━\u001b[0m\u001b[37m\u001b[0m \u001b[1m303s\u001b[0m 258ms/step - loss: 0.0274 - mae: 0.1183 - val_loss: 0.0651 - val_mae: 0.1768\n",
      "Epoch 11/50\n",
      "\u001b[1m1176/1176\u001b[0m \u001b[32m━━━━━━━━━━━━━━━━━━━━\u001b[0m\u001b[37m\u001b[0m \u001b[1m306s\u001b[0m 260ms/step - loss: 0.0235 - mae: 0.1106 - val_loss: 0.0640 - val_mae: 0.1771\n",
      "Epoch 12/50\n",
      "\u001b[1m1176/1176\u001b[0m \u001b[32m━━━━━━━━━━━━━━━━━━━━\u001b[0m\u001b[37m\u001b[0m \u001b[1m302s\u001b[0m 257ms/step - loss: 0.0202 - mae: 0.1026 - val_loss: 0.0644 - val_mae: 0.1773\n",
      "Epoch 13/50\n",
      "\u001b[1m1176/1176\u001b[0m \u001b[32m━━━━━━━━━━━━━━━━━━━━\u001b[0m\u001b[37m\u001b[0m \u001b[1m304s\u001b[0m 259ms/step - loss: 0.0173 - mae: 0.0958 - val_loss: 0.0633 - val_mae: 0.1762\n",
      "Epoch 14/50\n",
      "\u001b[1m1176/1176\u001b[0m \u001b[32m━━━━━━━━━━━━━━━━━━━━\u001b[0m\u001b[37m\u001b[0m \u001b[1m312s\u001b[0m 265ms/step - loss: 0.0148 - mae: 0.0886 - val_loss: 0.0631 - val_mae: 0.1762\n",
      "Epoch 15/50\n",
      "\u001b[1m1176/1176\u001b[0m \u001b[32m━━━━━━━━━━━━━━━━━━━━\u001b[0m\u001b[37m\u001b[0m \u001b[1m304s\u001b[0m 259ms/step - loss: 0.0135 - mae: 0.0856 - val_loss: 0.0633 - val_mae: 0.1763\n",
      "Epoch 16/50\n",
      "\u001b[1m1176/1176\u001b[0m \u001b[32m━━━━━━━━━━━━━━━━━━━━\u001b[0m\u001b[37m\u001b[0m \u001b[1m306s\u001b[0m 260ms/step - loss: 0.0116 - mae: 0.0795 - val_loss: 0.0632 - val_mae: 0.1761\n",
      "Epoch 17/50\n",
      "\u001b[1m1176/1176\u001b[0m \u001b[32m━━━━━━━━━━━━━━━━━━━━\u001b[0m\u001b[37m\u001b[0m \u001b[1m305s\u001b[0m 259ms/step - loss: 0.0103 - mae: 0.0748 - val_loss: 0.0649 - val_mae: 0.1792\n",
      "Epoch 18/50\n",
      "\u001b[1m1176/1176\u001b[0m \u001b[32m━━━━━━━━━━━━━━━━━━━━\u001b[0m\u001b[37m\u001b[0m \u001b[1m308s\u001b[0m 261ms/step - loss: 0.0092 - mae: 0.0706 - val_loss: 0.0647 - val_mae: 0.1799\n",
      "Epoch 19/50\n",
      "\u001b[1m1176/1176\u001b[0m \u001b[32m━━━━━━━━━━━━━━━━━━━━\u001b[0m\u001b[37m\u001b[0m \u001b[1m301s\u001b[0m 255ms/step - loss: 0.0083 - mae: 0.0678 - val_loss: 0.0678 - val_mae: 0.1836\n",
      "Epoch 20/50\n",
      "\u001b[1m1176/1176\u001b[0m \u001b[32m━━━━━━━━━━━━━━━━━━━━\u001b[0m\u001b[37m\u001b[0m \u001b[1m303s\u001b[0m 258ms/step - loss: 0.0080 - mae: 0.0663 - val_loss: 0.0634 - val_mae: 0.1781\n",
      "Epoch 21/50\n",
      "\u001b[1m1176/1176\u001b[0m \u001b[32m━━━━━━━━━━━━━━━━━━━━\u001b[0m\u001b[37m\u001b[0m \u001b[1m307s\u001b[0m 261ms/step - loss: 0.0069 - mae: 0.0613 - val_loss: 0.0630 - val_mae: 0.1753\n",
      "Epoch 22/50\n",
      "\u001b[1m1176/1176\u001b[0m \u001b[32m━━━━━━━━━━━━━━━━━━━━\u001b[0m\u001b[37m\u001b[0m \u001b[1m298s\u001b[0m 253ms/step - loss: 0.0067 - mae: 0.0600 - val_loss: 0.0614 - val_mae: 0.1746\n",
      "Epoch 23/50\n",
      "\u001b[1m1176/1176\u001b[0m \u001b[32m━━━━━━━━━━━━━━━━━━━━\u001b[0m\u001b[37m\u001b[0m \u001b[1m300s\u001b[0m 255ms/step - loss: 0.0060 - mae: 0.0570 - val_loss: 0.0633 - val_mae: 0.1783\n",
      "Epoch 24/50\n",
      "\u001b[1m1176/1176\u001b[0m \u001b[32m━━━━━━━━━━━━━━━━━━━━\u001b[0m\u001b[37m\u001b[0m \u001b[1m301s\u001b[0m 256ms/step - loss: 0.0058 - mae: 0.0565 - val_loss: 0.0626 - val_mae: 0.1748\n",
      "Epoch 25/50\n",
      "\u001b[1m1176/1176\u001b[0m \u001b[32m━━━━━━━━━━━━━━━━━━━━\u001b[0m\u001b[37m\u001b[0m \u001b[1m306s\u001b[0m 260ms/step - loss: 0.0056 - mae: 0.0549 - val_loss: 0.0628 - val_mae: 0.1760\n",
      "Epoch 26/50\n",
      "\u001b[1m1176/1176\u001b[0m \u001b[32m━━━━━━━━━━━━━━━━━━━━\u001b[0m\u001b[37m\u001b[0m \u001b[1m494s\u001b[0m 420ms/step - loss: 0.0049 - mae: 0.0513 - val_loss: 0.0626 - val_mae: 0.1759\n",
      "Epoch 27/50\n",
      "\u001b[1m1176/1176\u001b[0m \u001b[32m━━━━━━━━━━━━━━━━━━━━\u001b[0m\u001b[37m\u001b[0m \u001b[1m301s\u001b[0m 255ms/step - loss: 0.0045 - mae: 0.0494 - val_loss: 0.0634 - val_mae: 0.1769\n",
      "Epoch 28/50\n",
      "\u001b[1m1176/1176\u001b[0m \u001b[32m━━━━━━━━━━━━━━━━━━━━\u001b[0m\u001b[37m\u001b[0m \u001b[1m300s\u001b[0m 255ms/step - loss: 0.0045 - mae: 0.0500 - val_loss: 0.0622 - val_mae: 0.1748\n",
      "Epoch 29/50\n",
      "\u001b[1m1176/1176\u001b[0m \u001b[32m━━━━━━━━━━━━━━━━━━━━\u001b[0m\u001b[37m\u001b[0m \u001b[1m305s\u001b[0m 259ms/step - loss: 0.0045 - mae: 0.0492 - val_loss: 0.0635 - val_mae: 0.1766\n",
      "Epoch 30/50\n",
      "\u001b[1m1176/1176\u001b[0m \u001b[32m━━━━━━━━━━━━━━━━━━━━\u001b[0m\u001b[37m\u001b[0m \u001b[1m305s\u001b[0m 260ms/step - loss: 0.0041 - mae: 0.0465 - val_loss: 0.0621 - val_mae: 0.1760\n",
      "Epoch 31/50\n",
      "\u001b[1m1176/1176\u001b[0m \u001b[32m━━━━━━━━━━━━━━━━━━━━\u001b[0m\u001b[37m\u001b[0m \u001b[1m302s\u001b[0m 257ms/step - loss: 0.0039 - mae: 0.0457 - val_loss: 0.0654 - val_mae: 0.1829\n",
      "Epoch 32/50\n",
      "\u001b[1m1176/1176\u001b[0m \u001b[32m━━━━━━━━━━━━━━━━━━━━\u001b[0m\u001b[37m\u001b[0m \u001b[1m302s\u001b[0m 257ms/step - loss: 0.0040 - mae: 0.0466 - val_loss: 0.0624 - val_mae: 0.1763\n",
      "Epoch 33/50\n",
      "\u001b[1m1176/1176\u001b[0m \u001b[32m━━━━━━━━━━━━━━━━━━━━\u001b[0m\u001b[37m\u001b[0m \u001b[1m302s\u001b[0m 257ms/step - loss: 0.0035 - mae: 0.0431 - val_loss: 0.0617 - val_mae: 0.1744\n",
      "Epoch 34/50\n",
      "\u001b[1m1176/1176\u001b[0m \u001b[32m━━━━━━━━━━━━━━━━━━━━\u001b[0m\u001b[37m\u001b[0m \u001b[1m302s\u001b[0m 257ms/step - loss: 0.0036 - mae: 0.0442 - val_loss: 0.0613 - val_mae: 0.1739\n",
      "Epoch 35/50\n",
      "\u001b[1m1176/1176\u001b[0m \u001b[32m━━━━━━━━━━━━━━━━━━━━\u001b[0m\u001b[37m\u001b[0m \u001b[1m299s\u001b[0m 254ms/step - loss: 0.0033 - mae: 0.0419 - val_loss: 0.0608 - val_mae: 0.1731\n",
      "Epoch 36/50\n",
      "\u001b[1m1176/1176\u001b[0m \u001b[32m━━━━━━━━━━━━━━━━━━━━\u001b[0m\u001b[37m\u001b[0m \u001b[1m304s\u001b[0m 258ms/step - loss: 0.0032 - mae: 0.0415 - val_loss: 0.0648 - val_mae: 0.1812\n",
      "Epoch 37/50\n",
      "\u001b[1m1176/1176\u001b[0m \u001b[32m━━━━━━━━━━━━━━━━━━━━\u001b[0m\u001b[37m\u001b[0m \u001b[1m397s\u001b[0m 337ms/step - loss: 0.0034 - mae: 0.0425 - val_loss: 0.0618 - val_mae: 0.1746\n",
      "Epoch 38/50\n",
      "\u001b[1m1176/1176\u001b[0m \u001b[32m━━━━━━━━━━━━━━━━━━━━\u001b[0m\u001b[37m\u001b[0m \u001b[1m309s\u001b[0m 262ms/step - loss: 0.0031 - mae: 0.0400 - val_loss: 0.0606 - val_mae: 0.1731\n",
      "Epoch 39/50\n",
      "\u001b[1m1176/1176\u001b[0m \u001b[32m━━━━━━━━━━━━━━━━━━━━\u001b[0m\u001b[37m\u001b[0m \u001b[1m307s\u001b[0m 261ms/step - loss: 0.0028 - mae: 0.0391 - val_loss: 0.0618 - val_mae: 0.1743\n",
      "Epoch 40/50\n",
      "\u001b[1m1176/1176\u001b[0m \u001b[32m━━━━━━━━━━━━━━━━━━━━\u001b[0m\u001b[37m\u001b[0m \u001b[1m301s\u001b[0m 256ms/step - loss: 0.0028 - mae: 0.0383 - val_loss: 0.0622 - val_mae: 0.1760\n",
      "Epoch 41/50\n",
      "\u001b[1m1176/1176\u001b[0m \u001b[32m━━━━━━━━━━━━━━━━━━━━\u001b[0m\u001b[37m\u001b[0m \u001b[1m300s\u001b[0m 255ms/step - loss: 0.0030 - mae: 0.0401 - val_loss: 0.0612 - val_mae: 0.1751\n",
      "Epoch 42/50\n",
      "\u001b[1m1176/1176\u001b[0m \u001b[32m━━━━━━━━━━━━━━━━━━━━\u001b[0m\u001b[37m\u001b[0m \u001b[1m303s\u001b[0m 258ms/step - loss: 0.0027 - mae: 0.0373 - val_loss: 0.0628 - val_mae: 0.1769\n",
      "Epoch 43/50\n",
      "\u001b[1m1176/1176\u001b[0m \u001b[32m━━━━━━━━━━━━━━━━━━━━\u001b[0m\u001b[37m\u001b[0m \u001b[1m302s\u001b[0m 256ms/step - loss: 0.0025 - mae: 0.0368 - val_loss: 0.0622 - val_mae: 0.1756\n",
      "Epoch 44/50\n",
      "\u001b[1m1176/1176\u001b[0m \u001b[32m━━━━━━━━━━━━━━━━━━━━\u001b[0m\u001b[37m\u001b[0m \u001b[1m302s\u001b[0m 256ms/step - loss: 0.0025 - mae: 0.0364 - val_loss: 0.0605 - val_mae: 0.1728\n",
      "Epoch 45/50\n",
      "\u001b[1m1176/1176\u001b[0m \u001b[32m━━━━━━━━━━━━━━━━━━━━\u001b[0m\u001b[37m\u001b[0m \u001b[1m300s\u001b[0m 255ms/step - loss: 0.0026 - mae: 0.0368 - val_loss: 0.0619 - val_mae: 0.1760\n",
      "Epoch 46/50\n",
      "\u001b[1m1176/1176\u001b[0m \u001b[32m━━━━━━━━━━━━━━━━━━━━\u001b[0m\u001b[37m\u001b[0m \u001b[1m302s\u001b[0m 257ms/step - loss: 0.0026 - mae: 0.0369 - val_loss: 0.0610 - val_mae: 0.1740\n",
      "Epoch 47/50\n",
      "\u001b[1m1176/1176\u001b[0m \u001b[32m━━━━━━━━━━━━━━━━━━━━\u001b[0m\u001b[37m\u001b[0m \u001b[1m301s\u001b[0m 256ms/step - loss: 0.0023 - mae: 0.0351 - val_loss: 0.0610 - val_mae: 0.1735\n",
      "Epoch 48/50\n",
      "\u001b[1m1176/1176\u001b[0m \u001b[32m━━━━━━━━━━━━━━━━━━━━\u001b[0m\u001b[37m\u001b[0m \u001b[1m302s\u001b[0m 257ms/step - loss: 0.0024 - mae: 0.0354 - val_loss: 0.0601 - val_mae: 0.1722\n",
      "Epoch 49/50\n",
      "\u001b[1m1176/1176\u001b[0m \u001b[32m━━━━━━━━━━━━━━━━━━━━\u001b[0m\u001b[37m\u001b[0m \u001b[1m301s\u001b[0m 256ms/step - loss: 0.0023 - mae: 0.0347 - val_loss: 0.0604 - val_mae: 0.1728\n",
      "Epoch 50/50\n",
      "\u001b[1m1176/1176\u001b[0m \u001b[32m━━━━━━━━━━━━━━━━━━━━\u001b[0m\u001b[37m\u001b[0m \u001b[1m304s\u001b[0m 258ms/step - loss: 0.0022 - mae: 0.0339 - val_loss: 0.0605 - val_mae: 0.1745\n",
      "\u001b[1m294/294\u001b[0m \u001b[32m━━━━━━━━━━━━━━━━━━━━\u001b[0m\u001b[37m\u001b[0m \u001b[1m18s\u001b[0m 62ms/step - loss: 0.0607 - mae: 0.1753\n"
     ]
    },
    {
     "data": {
      "text/plain": [
       "[0.06054220721125603, 0.17451320588588715]"
      ]
     },
     "execution_count": 1,
     "metadata": {},
     "output_type": "execute_result"
    }
   ],
   "source": [
    "import os\n",
    "import tensorflow as tf\n",
    "from tensorflow.keras.preprocessing.image import ImageDataGenerator\n",
    "from sklearn.model_selection import train_test_split\n",
    "\n",
    "# Define the path to your dataset\n",
    "data_path = r'C:\\Users\\HTW1KOR\\Documents\\my_learning\\kaggle\\human_age\\data\\gender\\Training'\n",
    "\n",
    "# Initialize ImageDataGenerator for preprocessing and augmentation\n",
    "datagen = ImageDataGenerator(rescale=1./255, validation_split=0.2)\n",
    "\n",
    "# Create training and validation generators\n",
    "train_generator = datagen.flow_from_directory(\n",
    "    data_path,\n",
    "    target_size=(224, 224),  # resize images\n",
    "    batch_size=32,\n",
    "    class_mode='sparse',  # sparse since age is a numeric label (from folder names)\n",
    "    subset='training'\n",
    ")\n",
    "\n",
    "validation_generator = datagen.flow_from_directory(\n",
    "    data_path,\n",
    "    target_size=(224, 224),\n",
    "    batch_size=32,\n",
    "    class_mode='sparse',\n",
    "    subset='validation'\n",
    ")\n",
    "\n",
    "# Build a simple CNN model\n",
    "model = tf.keras.models.Sequential([\n",
    "    tf.keras.layers.Conv2D(32, (3, 3), activation='relu', input_shape=(224, 224, 3)),\n",
    "    tf.keras.layers.MaxPooling2D((2, 2)),\n",
    "    tf.keras.layers.Conv2D(64, (3, 3), activation='relu'),\n",
    "    tf.keras.layers.MaxPooling2D((2, 2)),\n",
    "    tf.keras.layers.Flatten(),\n",
    "    tf.keras.layers.Dense(128, activation='relu'),\n",
    "    tf.keras.layers.Dense(1)  # Single output for age prediction\n",
    "])\n",
    "\n",
    "# Compile the model with a regression loss function\n",
    "model.compile(optimizer='adam', loss='mean_squared_error', metrics=['mae'])\n",
    "\n",
    "# Train the model\n",
    "history = model.fit(train_generator, validation_data=validation_generator, epochs=50)\n",
    "\n",
    "# Evaluate the model\n",
    "model.evaluate(validation_generator)\n"
   ]
  },
  {
   "cell_type": "code",
   "execution_count": 2,
   "metadata": {},
   "outputs": [
    {
     "name": "stderr",
     "output_type": "stream",
     "text": [
      "WARNING:absl:You are saving your model as an HDF5 file via `model.save()` or `keras.saving.save_model(model)`. This file format is considered legacy. We recommend using instead the native Keras format, e.g. `model.save('my_model.keras')` or `keras.saving.save_model(model, 'my_model.keras')`. \n"
     ]
    }
   ],
   "source": [
    "model.save('gender_model_50epochs.h5')"
   ]
  },
  {
   "cell_type": "code",
   "execution_count": null,
   "metadata": {},
   "outputs": [],
   "source": []
  }
 ],
 "metadata": {
  "kernelspec": {
   "display_name": "learning",
   "language": "python",
   "name": "python3"
  },
  "language_info": {
   "codemirror_mode": {
    "name": "ipython",
    "version": 3
   },
   "file_extension": ".py",
   "mimetype": "text/x-python",
   "name": "python",
   "nbconvert_exporter": "python",
   "pygments_lexer": "ipython3",
   "version": "3.9.19"
  }
 },
 "nbformat": 4,
 "nbformat_minor": 2
}
